{
 "cells": [
  {
   "cell_type": "markdown",
   "metadata": {},
   "source": [
    "# Spatial Networks\n",
    "\n",
    "This library is a short library based on NetworkX and Shapely to address Spatial Networks. Spatial Networks are graphs whose points are located into space. In this library, the actual position and geometry of nodes and edges is important.\n",
    "\n",
    "It is solely maintained by me (Paul Déchorgnat) and is a first attempt at creating a Python package.\n",
    "\n",
    "## Data Structures\n",
    "\n",
    "### Spatial Nodes\n",
    "\n",
    "In order to force nodes to have a geometrical location, I have created a class that is called `SpatialNode`. This class needs a name (a hashable Python object that is not `None`) and a geometry which should be a `Point` from the `shapely` library (`shapely.geometry.Point`). Note that I have chosen to only consider two dimension `Point`. A three-dimension `SpatialNode` will raise a `ValueError`."
   ]
  },
  {
   "cell_type": "code",
   "execution_count": 1,
   "metadata": {},
   "outputs": [],
   "source": [
    "import sys\n",
    "sys.path.append('../')"
   ]
  },
  {
   "cell_type": "code",
   "execution_count": 2,
   "metadata": {},
   "outputs": [
    {
     "name": "stdout",
     "output_type": "stream",
     "text": [
      "SpatialNode 'my_node' with coordinates: POINT (0 0)\n"
     ]
    }
   ],
   "source": [
    "from spatial_networks import SpatialNode\n",
    "from shapely.geometry import Point\n",
    "\n",
    "my_node = SpatialNode(\n",
    "    name=\"my_node\",\n",
    "    geometry=Point(0, 0)\n",
    ")\n",
    "\n",
    "print(my_node)"
   ]
  },
  {
   "cell_type": "markdown",
   "metadata": {},
   "source": [
    "In the following cells, you will see different errors on the building of a `SpatialNode` object:"
   ]
  },
  {
   "cell_type": "code",
   "execution_count": 3,
   "metadata": {},
   "outputs": [
    {
     "name": "stdout",
     "output_type": "stream",
     "text": [
      "'name' should be a hashable object which is not None. Received a '<class 'list'>' object\n"
     ]
    }
   ],
   "source": [
    "# name is not hashable -> TypeError\n",
    "\n",
    "try:\n",
    "    my_wrong_node = SpatialNode(\n",
    "        name=[\"hello world\"],\n",
    "        geometry=Point(0, 0)\n",
    "    )\n",
    "except TypeError as e:\n",
    "    print(e)"
   ]
  },
  {
   "cell_type": "code",
   "execution_count": 4,
   "metadata": {},
   "outputs": [
    {
     "name": "stdout",
     "output_type": "stream",
     "text": [
      "'name' should be a hashable object which is not None. Received a '<class 'NoneType'>' object\n"
     ]
    }
   ],
   "source": [
    "# name is None -> TypeError\n",
    "\n",
    "try:\n",
    "    my_wrong_node = SpatialNode(\n",
    "        name=None,\n",
    "        geometry=Point(0, 0)\n",
    "    )\n",
    "except TypeError as e:\n",
    "    print(e)"
   ]
  },
  {
   "cell_type": "code",
   "execution_count": 5,
   "metadata": {},
   "outputs": [
    {
     "name": "stdout",
     "output_type": "stream",
     "text": [
      "'geometry' should be a shapely.geometry.Point object. Received a '<class 'tuple'>' object.\n"
     ]
    }
   ],
   "source": [
    "# geometry is not an instance of Point -> TypeError\n",
    "\n",
    "try:\n",
    "    my_wrong_node = SpatialNode(\n",
    "        name=\"my_wrong_node\",\n",
    "        geometry=(0, 0)\n",
    "    )\n",
    "except TypeError as e:\n",
    "    print(e)"
   ]
  },
  {
   "cell_type": "code",
   "execution_count": 6,
   "metadata": {},
   "outputs": [
    {
     "name": "stdout",
     "output_type": "stream",
     "text": [
      "'geometry' should be a two-dimension object.\n"
     ]
    }
   ],
   "source": [
    "# geometry is a three-dimension Point -> ValueError\n",
    "\n",
    "try:\n",
    "    my_wrong_node = SpatialNode(\n",
    "        name=\"my_wrong_node\",\n",
    "        geometry=Point(0, 0, 0)\n",
    "    )\n",
    "except ValueError as e:\n",
    "    print(e)"
   ]
  },
  {
   "cell_type": "markdown",
   "metadata": {},
   "source": [
    "`SpatialNode` is also made to store different values. We simply need to pass them in the constructor:"
   ]
  },
  {
   "cell_type": "code",
   "execution_count": 7,
   "metadata": {},
   "outputs": [
    {
     "name": "stdout",
     "output_type": "stream",
     "text": [
      "SpatialNode 'my_other_node' with coordinates: POINT (1 0)\n"
     ]
    }
   ],
   "source": [
    "my_other_node = SpatialNode(\n",
    "    name=\"my_other_node\",\n",
    "    geometry=Point(1, 0),\n",
    "    some_value=\"a value\",\n",
    "    another_value=[1, 2, 3]\n",
    ")\n",
    "\n",
    "print(my_other_node)"
   ]
  },
  {
   "cell_type": "markdown",
   "metadata": {},
   "source": [
    "`SpatialNode` can be used as dictionaries:"
   ]
  },
  {
   "cell_type": "code",
   "execution_count": 8,
   "metadata": {},
   "outputs": [
    {
     "name": "stdout",
     "output_type": "stream",
     "text": [
      "number of attributes: 4\n",
      "True\n",
      "False\n",
      "some_value : a value\n",
      "another_value : [1, 2, 3]\n",
      "name : my_other_node\n",
      "geometry : POINT (1 0)\n"
     ]
    }
   ],
   "source": [
    "print(\"number of attributes:\", len(my_other_node))\n",
    "\n",
    "print(\"another_value\" in my_other_node)\n",
    "print(\"not_a_value\" in my_other_node)\n",
    "\n",
    "for attribute in my_other_node:\n",
    "    print(attribute, \":\", my_other_node[attribute])"
   ]
  },
  {
   "cell_type": "markdown",
   "metadata": {},
   "source": [
    "### Spatial Edges\n",
    "\n",
    "Spatial Edges are to represent the geometry between two nodes. They are represented by the `SpatialEdge` class. A `SpatialEdge` object is built on the same idea as `SpatialNode`. You should specify a `start`, a `stop` and a `geometry` which should be a `LineString` from the shapely library. For now on, `SpatialEdge` are not directed so `start` and `stop` are simply ways to address the two ends of the edge.\n",
    "\n",
    "Note that `start` and `stop` should be hashable and not `None`. In fact, we will see later that they are supposed to refer to existing `SpatialNode` names if we want to add them to a graph."
   ]
  },
  {
   "cell_type": "code",
   "execution_count": 9,
   "metadata": {},
   "outputs": [
    {
     "name": "stdout",
     "output_type": "stream",
     "text": [
      "SpatialEdge from node 'my_node' to node 'my_other_node'\n"
     ]
    }
   ],
   "source": [
    "from spatial_networks import SpatialEdge\n",
    "from shapely.geometry import LineString\n",
    "\n",
    "\n",
    "edge_geometry = LineString([Point(0, 0), Point(1, 0)])\n",
    "\n",
    "my_spatial_edge = SpatialEdge(\n",
    "    start=\"my_node\",\n",
    "    stop=\"my_other_node\",\n",
    "    geometry=edge_geometry,\n",
    "    other_value=\"something\"\n",
    ")\n",
    "\n",
    "print(my_spatial_edge)"
   ]
  },
  {
   "cell_type": "markdown",
   "metadata": {},
   "source": [
    "Note that `geometry` is actually an optional argument. If not specified, it will be created when added to a graph. It will take the shortest distance between the two nodes."
   ]
  },
  {
   "cell_type": "code",
   "execution_count": 10,
   "metadata": {},
   "outputs": [],
   "source": [
    "my_other_spatial_edge = SpatialEdge(\n",
    "    start=\"my_node\",\n",
    "    stop=\"my_other_node\"\n",
    ")"
   ]
  },
  {
   "cell_type": "markdown",
   "metadata": {},
   "source": [
    "You cannot define define a `key` attribute to a `SpatialEdge`:"
   ]
  },
  {
   "cell_type": "code",
   "execution_count": 11,
   "metadata": {},
   "outputs": [
    {
     "name": "stdout",
     "output_type": "stream",
     "text": [
      "'key' cannot be an attribute of a SpatialEdge\n"
     ]
    }
   ],
   "source": [
    "try:\n",
    "    SpatialEdge(\n",
    "        start=\"my_node\",\n",
    "        stop=\"my_other_node\",\n",
    "        key=\"error\"\n",
    "    )\n",
    "except ValueError as e:\n",
    "    print(e)"
   ]
  },
  {
   "cell_type": "markdown",
   "metadata": {},
   "source": [
    "### Spatial Graphs\n",
    "\n",
    "The final basic data structure is of course the Graph itself. The `SpatialGraph` class inherits from the `nx.MultiGraph` class, meaning that two nodes can be linked by multiple edges (with different geometries?). `SpatialGraph` are simply created by passing a list of `SpatialNode` and a list of `SpatialEdge` respectively as `nodes` and `edges`:"
   ]
  },
  {
   "cell_type": "code",
   "execution_count": 12,
   "metadata": {},
   "outputs": [
    {
     "name": "stdout",
     "output_type": "stream",
     "text": [
      "SpatialGraph with 2 nodes and 1 edges\n"
     ]
    }
   ],
   "source": [
    "from spatial_networks import SpatialGraph\n",
    "\n",
    "my_spatial_graph = SpatialGraph(\n",
    "    nodes=[my_node, my_other_node],\n",
    "    edges=[my_spatial_edge]\n",
    ")\n",
    "\n",
    "print(my_spatial_graph)"
   ]
  },
  {
   "cell_type": "markdown",
   "metadata": {},
   "source": [
    "We can draw our graph: you will note that the nodes are correctly located:"
   ]
  },
  {
   "cell_type": "code",
   "execution_count": 13,
   "metadata": {},
   "outputs": [
    {
     "data": {
      "image/png": "[encoded data removed]",
      "text/plain": [
       "<Figure size 360x360 with 1 Axes>"
      ]
     },
     "metadata": {
      "needs_background": "light"
     },
     "output_type": "display_data"
    }
   ],
   "source": [
    "import matplotlib.pyplot as plt\n",
    "%matplotlib inline\n",
    "\n",
    "my_spatial_graph.draw(include_axis=True)\n",
    "\n",
    "plt.show()"
   ]
  },
  {
   "cell_type": "markdown",
   "metadata": {},
   "source": [
    "We can add `SpatialNode` through the `add_node` method or the `add_nodes_from` method."
   ]
  },
  {
   "cell_type": "code",
   "execution_count": 14,
   "metadata": {},
   "outputs": [
    {
     "name": "stdout",
     "output_type": "stream",
     "text": [
      "SpatialGraph with 2 nodes and 1 edges\n"
     ]
    },
    {
     "data": {
      "image/png": "[encoded data removed]",
      "text/plain": [
       "<Figure size 360x360 with 1 Axes>"
      ]
     },
     "metadata": {
      "needs_background": "light"
     },
     "output_type": "display_data"
    }
   ],
   "source": [
    "my_third_node = SpatialNode(\n",
    "    name=\"third\",\n",
    "    geometry=Point(0.5, 0.5)\n",
    ")\n",
    "\n",
    "print(my_spatial_graph)\n",
    "\n",
    "my_spatial_graph.add_node(my_third_node)\n",
    "\n",
    "my_spatial_graph.draw(include_axis=True)\n",
    "\n",
    "plt.show()"
   ]
  },
  {
   "cell_type": "markdown",
   "metadata": {},
   "source": [
    "We can add edges two:"
   ]
  },
  {
   "cell_type": "code",
   "execution_count": 15,
   "metadata": {},
   "outputs": [
    {
     "name": "stdout",
     "output_type": "stream",
     "text": [
      "SpatialGraph with 3 nodes and 3 edges\n"
     ]
    },
    {
     "data": {
      "image/png": "[encoded data removed]",
      "text/plain": [
       "<Figure size 360x360 with 1 Axes>"
      ]
     },
     "metadata": {
      "needs_background": "light"
     },
     "output_type": "display_data"
    }
   ],
   "source": [
    "my_spatial_graph.add_edges_from(\n",
    "    [\n",
    "        SpatialEdge(start=\"my_node\", stop=\"third\"),\n",
    "        SpatialEdge(start=\"third\", stop=\"my_other_node\")\n",
    "    ]\n",
    ")\n",
    "\n",
    "print(my_spatial_graph)\n",
    "\n",
    "my_spatial_graph.add_node(my_third_node)\n",
    "\n",
    "my_spatial_graph.draw(include_axis=True)\n",
    "\n",
    "plt.show()"
   ]
  },
  {
   "cell_type": "markdown",
   "metadata": {},
   "source": [
    "Nodes and Edges data can be accessed through `nodes` and `edges`. As `SpatialGraph` are based on `nx.MultiGraph`, I strongly advice to specify `data=True` and `keys=True` when calling `edges`."
   ]
  },
  {
   "cell_type": "code",
   "execution_count": 16,
   "metadata": {},
   "outputs": [
    {
     "name": "stdout",
     "output_type": "stream",
     "text": [
      "SpatialNodes\n",
      "[('my_node',\n",
      "  {'geometry': <shapely.geometry.point.Point object at 0x7ff81415bc40>,\n",
      "   'name': 'my_node'}),\n",
      " ('my_other_node',\n",
      "  {'another_value': [1, 2, 3],\n",
      "   'geometry': <shapely.geometry.point.Point object at 0x7ff7d640d2e0>,\n",
      "   'name': 'my_other_node',\n",
      "   'some_value': 'a value'}),\n",
      " ('third',\n",
      "  {'geometry': <shapely.geometry.point.Point object at 0x7ff7d411f430>,\n",
      "   'name': 'third'})]\n",
      "\n",
      "SpatialEdges\n",
      "[('my_node',\n",
      "  'my_other_node',\n",
      "  0,\n",
      "  {'geometry': <shapely.geometry.linestring.LineString object at 0x7ff7d616ba90>,\n",
      "   'length': 1.0,\n",
      "   'other_value': 'something',\n",
      "   'start': 'my_node',\n",
      "   'stop': 'my_other_node'}),\n",
      " ('my_node',\n",
      "  'third',\n",
      "  0,\n",
      "  {'geometry': <shapely.geometry.linestring.LineString object at 0x7ff7d4015df0>,\n",
      "   'length': 0.7071067811865476,\n",
      "   'start': 'my_node',\n",
      "   'stop': 'third'}),\n",
      " ('my_other_node',\n",
      "  'third',\n",
      "  0,\n",
      "  {'geometry': <shapely.geometry.linestring.LineString object at 0x7ff8141478e0>,\n",
      "   'length': 0.7071067811865476,\n",
      "   'start': 'third',\n",
      "   'stop': 'my_other_node'})]\n"
     ]
    }
   ],
   "source": [
    "from pprint import pprint\n",
    "\n",
    "print(\"SpatialNodes\")\n",
    "\n",
    "pprint(\n",
    "    list(\n",
    "        my_spatial_graph.nodes(data=True)\n",
    "    )\n",
    ")\n",
    "\n",
    "print()\n",
    "\n",
    "print(\"SpatialEdges\")\n",
    "\n",
    "\n",
    "pprint(\n",
    "    list(\n",
    "        my_spatial_graph.edges(data=True, keys=True)\n",
    "    )\n",
    ")\n"
   ]
  },
  {
   "cell_type": "markdown",
   "metadata": {},
   "source": [
    "Note that the length of the edges is computed automatically and stored in `length`.\n",
    "\n",
    "We can also call the `get_points` and `get_segments` methods to return all the nodes as a `shapely.geometry.MultiPoint` object and all the edges as a `shapely.geometry.MultiLineString` object."
   ]
  },
  {
   "cell_type": "code",
   "execution_count": 17,
   "metadata": {},
   "outputs": [
    {
     "name": "stdout",
     "output_type": "stream",
     "text": [
      "<class 'shapely.geometry.multipoint.MultiPoint'>\n"
     ]
    },
    {
     "data": {
      "image/svg+xml": [
       "<svg xmlns=\"http://www.w3.org/2000/svg\" xmlns:xlink=\"http://www.w3.org/1999/xlink\" width=\"100.0\" height=\"100.0\" viewBox=\"-0.04 -0.04 1.08 0.5800000000000001\" preserveAspectRatio=\"xMinYMin meet\"><g transform=\"matrix(1,0,0,-1,0,0.5)\"><g><circle cx=\"0.0\" cy=\"0.0\" r=\"0.0324\" stroke=\"#555555\" stroke-width=\"0.0108\" fill=\"#66cc99\" opacity=\"0.6\" /><circle cx=\"1.0\" cy=\"0.0\" r=\"0.0324\" stroke=\"#555555\" stroke-width=\"0.0108\" fill=\"#66cc99\" opacity=\"0.6\" /><circle cx=\"0.5\" cy=\"0.5\" r=\"0.0324\" stroke=\"#555555\" stroke-width=\"0.0108\" fill=\"#66cc99\" opacity=\"0.6\" /></g></g></svg>"
      ],
      "text/plain": [
       "<shapely.geometry.multipoint.MultiPoint at 0x7ff7d3f96400>"
      ]
     },
     "metadata": {},
     "output_type": "display_data"
    }
   ],
   "source": [
    "from IPython.display import display\n",
    "\n",
    "points = my_spatial_graph.get_points()\n",
    "\n",
    "print(type(points))\n",
    "\n",
    "display(points)"
   ]
  },
  {
   "cell_type": "code",
   "execution_count": 18,
   "metadata": {},
   "outputs": [
    {
     "name": "stdout",
     "output_type": "stream",
     "text": [
      "<class 'shapely.geometry.multilinestring.MultiLineString'>\n"
     ]
    },
    {
     "data": {
      "image/svg+xml": [
       "<svg xmlns=\"http://www.w3.org/2000/svg\" xmlns:xlink=\"http://www.w3.org/1999/xlink\" width=\"100.0\" height=\"100.0\" viewBox=\"-0.04 -0.04 1.08 0.5800000000000001\" preserveAspectRatio=\"xMinYMin meet\"><g transform=\"matrix(1,0,0,-1,0,0.5)\"><g><polyline fill=\"none\" stroke=\"#66cc99\" stroke-width=\"0.0216\" points=\"0.0,0.0 1.0,0.0\" opacity=\"0.8\" /><polyline fill=\"none\" stroke=\"#66cc99\" stroke-width=\"0.0216\" points=\"0.0,0.0 0.5,0.5\" opacity=\"0.8\" /><polyline fill=\"none\" stroke=\"#66cc99\" stroke-width=\"0.0216\" points=\"0.5,0.5 1.0,0.0\" opacity=\"0.8\" /></g></g></svg>"
      ],
      "text/plain": [
       "<shapely.geometry.multilinestring.MultiLineString at 0x7ff7d3f966d0>"
      ]
     },
     "metadata": {},
     "output_type": "display_data"
    }
   ],
   "source": [
    "segments = my_spatial_graph.get_segments()\n",
    "\n",
    "print(type(segments))\n",
    "\n",
    "display(segments)"
   ]
  },
  {
   "cell_type": "markdown",
   "metadata": {},
   "source": [
    "We can of course remove nodes or edges:"
   ]
  },
  {
   "cell_type": "code",
   "execution_count": 19,
   "metadata": {},
   "outputs": [
    {
     "name": "stdout",
     "output_type": "stream",
     "text": [
      "SpatialGraph with 3 nodes and 2 edges\n"
     ]
    },
    {
     "data": {
      "image/png": "[encoded data removed]",
      "text/plain": [
       "<Figure size 360x360 with 1 Axes>"
      ]
     },
     "metadata": {
      "needs_background": "light"
     },
     "output_type": "display_data"
    }
   ],
   "source": [
    "my_spatial_graph.remove_edge(\n",
    "    (\"third\", \"my_node\")\n",
    ")\n",
    "\n",
    "\n",
    "print(my_spatial_graph)\n",
    "\n",
    "my_spatial_graph.add_node(my_third_node)\n",
    "\n",
    "my_spatial_graph.draw(include_axis=True)\n",
    "\n",
    "plt.show()"
   ]
  },
  {
   "cell_type": "code",
   "execution_count": 20,
   "metadata": {},
   "outputs": [
    {
     "name": "stdout",
     "output_type": "stream",
     "text": [
      "SpatialGraph with 2 nodes and 1 edges\n"
     ]
    },
    {
     "data": {
      "image/png": "[encoded data removed]",
      "text/plain": [
       "<Figure size 360x360 with 1 Axes>"
      ]
     },
     "metadata": {
      "needs_background": "light"
     },
     "output_type": "display_data"
    }
   ],
   "source": [
    "my_spatial_graph.remove_node(\n",
    "    \"third\"\n",
    ")\n",
    "\n",
    "\n",
    "print(my_spatial_graph)\n",
    "\n",
    "\n",
    "my_spatial_graph.draw(include_axis=True)\n",
    "\n",
    "plt.show()"
   ]
  },
  {
   "cell_type": "markdown",
   "metadata": {},
   "source": [
    "We cannot add a node that is not a `SpatialNode`:"
   ]
  },
  {
   "cell_type": "code",
   "execution_count": 21,
   "metadata": {},
   "outputs": [
    {
     "name": "stdout",
     "output_type": "stream",
     "text": [
      "'node_for_adding' should be a SpatialNode. Received <class 'str'> instead.\n"
     ]
    }
   ],
   "source": [
    "try:\n",
    "    my_spatial_graph.add_node(\"a_simple_string\")\n",
    "except TypeError as e:\n",
    "    print(e)"
   ]
  },
  {
   "cell_type": "markdown",
   "metadata": {},
   "source": [
    "We cannot add a `SpatialEdge` that is not refferring to a known node:"
   ]
  },
  {
   "cell_type": "code",
   "execution_count": 22,
   "metadata": {},
   "outputs": [
    {
     "name": "stdout",
     "output_type": "stream",
     "text": [
      "`edge_to_add['stop']` 'no_node' is not a node of this graph.\n"
     ]
    }
   ],
   "source": [
    "try:\n",
    "    my_spatial_graph.add_edge(SpatialEdge(start=\"my_node\", stop=\"no_node\"))\n",
    "except ValueError as e:\n",
    "    print(e)"
   ]
  },
  {
   "cell_type": "markdown",
   "metadata": {},
   "source": [
    "Finally, we can have a bit of fun with the geometry of our edges:"
   ]
  },
  {
   "cell_type": "code",
   "execution_count": 23,
   "metadata": {},
   "outputs": [
    {
     "name": "stdout",
     "output_type": "stream",
     "text": [
      "SpatialGraph with 2 nodes and 2 edges\n"
     ]
    },
    {
     "data": {
      "image/png": "[encoded data removed]",
      "text/plain": [
       "<Figure size 1440x720 with 2 Axes>"
      ]
     },
     "metadata": {},
     "output_type": "display_data"
    }
   ],
   "source": [
    "import numpy as np\n",
    "import networkx as nx\n",
    "\n",
    "points = [\n",
    "    Point(i, np.sin(i / 100 * 2 * np.pi)) for i in range(500)\n",
    "]\n",
    "\n",
    "nodes = [SpatialNode(name=\"1\", geometry=points[0]), SpatialNode(name=\"2\", geometry=points[-1])]\n",
    "\n",
    "edges = [\n",
    "    SpatialEdge(\n",
    "        start=\"1\",\n",
    "        stop=\"2\"\n",
    "    ),\n",
    "    SpatialEdge(\n",
    "        start=\"1\",\n",
    "        stop=\"2\",\n",
    "        geometry=LineString(points)\n",
    "    )\n",
    "]\n",
    "\n",
    "graph = SpatialGraph(nodes=nodes, edges=edges)\n",
    "print(graph)\n",
    "\n",
    "fig, axes = plt.subplots(ncols=2, nrows=1, figsize=(20, 10))\n",
    "\n",
    "graph.draw(ax=axes[0])\n",
    "\n",
    "nx.draw(graph, ax=axes[1])\n",
    "\n",
    "plt.show()"
   ]
  },
  {
   "cell_type": "markdown",
   "metadata": {},
   "source": [
    "Note how boring the one on the right is !"
   ]
  }
 ],
 "metadata": {
  "kernelspec": {
   "display_name": "Python 3 (ipykernel)",
   "language": "python",
   "name": "python3"
  },
  "language_info": {
   "codemirror_mode": {
    "name": "ipython",
    "version": 3
   },
   "file_extension": ".py",
   "mimetype": "text/x-python",
   "name": "python",
   "nbconvert_exporter": "python",
   "pygments_lexer": "ipython3",
   "version": "3.8.10"
  }
 },
 "nbformat": 4,
 "nbformat_minor": 4
}
